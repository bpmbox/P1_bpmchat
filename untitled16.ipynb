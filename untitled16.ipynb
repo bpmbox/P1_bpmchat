{
  "nbformat": 4,
  "nbformat_minor": 0,
  "metadata": {
    "colab": {
      "private_outputs": true,
      "provenance": [],
      "mount_file_id": "17vkkEVDmzugoEgtU4XaTopLltxdSHtez",
      "authorship_tag": "ABX9TyMxv7iprDDGR4FJMPBfjGh0",
      "include_colab_link": true
    },
    "kernelspec": {
      "name": "python3",
      "display_name": "Python 3"
    },
    "language_info": {
      "name": "python"
    }
  },
  "cells": [
    {
      "cell_type": "markdown",
      "metadata": {
        "id": "view-in-github",
        "colab_type": "text"
      },
      "source": [
        "<a href=\"https://colab.research.google.com/github/bpmbox/P1_bpmchat/blob/main/untitled16.ipynb\" target=\"_parent\"><img src=\"https://colab.research.google.com/assets/colab-badge.svg\" alt=\"Open In Colab\"/></a>"
      ]
    },
    {
      "cell_type": "code",
      "execution_count": null,
      "metadata": {
        "id": "qpAhuGLQZswA"
      },
      "outputs": [],
      "source": [
        "%%html\n",
        "<!DOCTYPE html>\n",
        "<html lang=\"en\">\n",
        "\t<meta charset=\"UTF-8\">\n",
        "</head>\n",
        "<body>\n",
        "\n",
        "  sssssssssssssssssssss\n",
        "\t<script src=\"https://cdn.jsdelivr.net/npm/phaser@3.55.2/dist/phaser.js\"></script>\n",
        "<script>\n",
        "const D_WIDTH = 480;\n",
        "const D_HEIGHT = 320;\n",
        "\n",
        "// 1, Phaser3の設定データ\n",
        "const config = {\n",
        "\ttype: Phaser.AUTO,\n",
        "\twidth: D_WIDTH,// ゲーム画面の横幅\n",
        "\theight: D_HEIGHT,// ゲーム画面の高さ\n",
        "\tantialias: false,\n",
        "\tscene: {\n",
        "\t\tpreload: preload,// 素材の読み込み時の関数\n",
        "\t\tcreate: create,// 画面が作られた時の関数\n",
        "\t\tupdate: update// 連続実行される関数\n",
        "\t},\n",
        "\tfps: {\n",
        "\t\ttarget: 24,// フレームレート\n",
        "\t\tforceSetTimeOut: true\n",
        "\t},\n",
        "\tphysics: {\n",
        "\t\tdefault: \"arcade\",\n",
        "\t\tarcade: {\n",
        "\t\t\tdebug: true,// スプライトに緑の枠を表示します\n",
        "\t\t\tgravity: {y: 300}// 重力の方向とその強さ\n",
        "\t\t}\n",
        "\t}\n",
        "}\n",
        "\n",
        "// 2, Phaser3オブジェクトを作る\n",
        "let phaser = new Phaser.Game(config);\n",
        "\n",
        "function preload(){\n",
        "  this.load.image(\"sky\", \"https://storage.googleapis.com/zenn-user-upload/21745a177979152e3143552c.png\");\n",
        "\tconsole.log(\"preload!!\");\n",
        "}\n",
        "\n",
        "function create(){\n",
        "  this.add.image(D_WIDTH/2, D_HEIGHT/2, \"sky\");// 画面の中心に表示します\n",
        "\tconsole.log(\"create!!\");\n",
        "}\n",
        "\n",
        "function update(){\n",
        "\tconsole.log(\"update!!\");\n",
        "}\n",
        "</script>\n",
        "\n",
        "  dddd\n",
        "</body>\n",
        "</html>"
      ]
    },
    {
      "cell_type": "code",
      "source": [
        "\n",
        "PORT = 8000\n",
        "PATH = ''\n",
        "\n",
        "# 検証用に適当なサーバーを立ち上げておく\n",
        "!nohup python3 -m http.server $PORT > server.log 2>&1 &"
      ],
      "metadata": {
        "id": "LmXLenrPqMga"
      },
      "execution_count": null,
      "outputs": []
    },
    {
      "cell_type": "code",
      "source": [
        "%pwd"
      ],
      "metadata": {
        "id": "Vcdsv6l1gRqV"
      },
      "execution_count": null,
      "outputs": []
    },
    {
      "cell_type": "code",
      "source": [
        "from google.colab import output\n",
        "output.serve_kernel_port_as_window(PORT, path=PATH)"
      ],
      "metadata": {
        "id": "I8nSghnkqR-h"
      },
      "execution_count": null,
      "outputs": []
    },
    {
      "cell_type": "code",
      "source": [
        "from google.colab import output\n",
        "\n",
        "output.serve_kernel_port_as_iframe(PORT, path=PATH)"
      ],
      "metadata": {
        "id": "_ZV_puKUqkd9"
      },
      "execution_count": null,
      "outputs": []
    },
    {
      "cell_type": "code",
      "source": [
        "!pip install pygame\n",
        "import os, sys\n",
        "import pygame\n",
        "from pygame.locals import *\n",
        "class PyManMain:\n",
        "    def __init__(self, width=640,height=480):\n",
        "        pygame.init()\n",
        "        self.width = width\n",
        "        self.height = height\n",
        "        self.screen = pygame.display.set_mode((self.width, self.height))\n",
        "    def MainLoop(self):\n",
        "        pygame.draw.ellipse(self.screen,(0,100,0),(50,50,200,100))\n",
        "        pygame.display.update()\n",
        "        while 1:\n",
        "            for event in pygame.event.get():\n",
        "                if event.type == pygame.QUIT: \n",
        "                    sys.exit()\n",
        "\n",
        "MainWindow = PyManMain()\n",
        "MainWindow.MainLoop()"
      ],
      "metadata": {
        "id": "kxBUJGv-b4Jq"
      },
      "execution_count": null,
      "outputs": []
    }
  ]
}